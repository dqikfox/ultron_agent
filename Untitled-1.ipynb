{
 "cells": [
  {
   "cell_type": "code",
   "execution_count": null,
   "id": "29716f2e",
   "metadata": {},
   "outputs": [],
   "source": [
    "# Welcome to your Python Notebook!\n",
    "# This cell will help you get started\n",
    "\n",
    "import sys\n",
    "print(f\"Python version: {sys.version} - Untitled-1.ipynb:5\")\n",
    "print(\"Notebook is ready to use! - Untitled-1.ipynb:6\")\n",
    "\n",
    "# Common imports you might need:\n",
    "# import pandas as pd\n",
    "# import numpy as np\n",
    "# import matplotlib.pyplot as plt"
   ]
  }
 ],
 "metadata": {
  "language_info": {
   "name": "python"
  }
 },
 "nbformat": 4,
 "nbformat_minor": 5
}
